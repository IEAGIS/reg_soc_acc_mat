{
 "cells": [
  {
   "cell_type": "markdown",
   "metadata": {},
   "source": [
    "# Reading excel sheets into python as a matrix then multiply by an aggregation matrix to sum by category\n",
    "\n",
    "#### Note this is only a proof of concept data is totally made up"
   ]
  },
  {
   "cell_type": "code",
   "execution_count": 142,
   "metadata": {},
   "outputs": [
    {
     "name": "stdout",
     "output_type": "stream",
     "text": [
      "C:\\Users\\jojoseph\\Desktop\\Python Models\\Python\\IO\n"
     ]
    }
   ],
   "source": [
    "import os\n",
    "import pandas as pd\n",
    "import numpy as np\n",
    "import copy\n",
    "from openpyxl import load_workbook\n",
    "    \n",
    "cwd = os.getcwd()\n",
    "cwd = os.chdir('C:\\Users\\jojoseph\\Desktop\\Python Models\\Python\\IO')\n",
    "\n",
    "print (os.getcwd())"
   ]
  },
  {
   "cell_type": "code",
   "execution_count": 143,
   "metadata": {},
   "outputs": [
    {
     "name": "stdout",
     "output_type": "stream",
     "text": [
      "[u'region0']\n"
     ]
    }
   ],
   "source": [
    "#opening the social account matrix excel files from IMPLAN -(89 sectors summarized from study area data/study area explorer )\n",
    "new_MRIO= 'new_MRIO.xlsx'# open file with social account matrices\n",
    "reg_soc_acc_mat=pd.ExcelFile(new_MRIO)\n",
    "print (reg_soc_acc_mat.sheet_names)\n",
    "\n",
    "#region3=reg_soc_acc_mat.parse('region2')"
   ]
  },
  {
   "cell_type": "markdown",
   "metadata": {},
   "source": [
    "### Load aggregated sector names"
   ]
  },
  {
   "cell_type": "code",
   "execution_count": 144,
   "metadata": {},
   "outputs": [
    {
     "data": {
      "text/plain": [
       "array([['Agriculture'],\n",
       "       ['Mining'],\n",
       "       ['Construction'],\n",
       "       ['Durable Goods MFG'],\n",
       "       ['Nondurable Goods MFG'],\n",
       "       ['Trade, Transportaiton & Utilities'],\n",
       "       ['Information'],\n",
       "       ['Finance, Insurance & Real Estate'],\n",
       "       ['Professional & Business Services'],\n",
       "       ['Education & health Services'],\n",
       "       ['Leisure & Hospitality'],\n",
       "       ['Other Services'],\n",
       "       ['Government'],\n",
       "       ['Other Nonproducing Sectors']],\n",
       "      dtype='|S33')"
      ]
     },
     "execution_count": 144,
     "metadata": {},
     "output_type": "execute_result"
    }
   ],
   "source": [
    "sector_names = np.loadtxt('aggregated_sector_names.txt', usecols=1, delimiter=\"\\'\", dtype=str)[...,None]\n",
    "\n",
    "sector_names"
   ]
  },
  {
   "cell_type": "markdown",
   "metadata": {},
   "source": [
    "### Load the aggregation matrix"
   ]
  },
  {
   "cell_type": "code",
   "execution_count": 145,
   "metadata": {
    "scrolled": true
   },
   "outputs": [
    {
     "name": "stdout",
     "output_type": "stream",
     "text": [
      "[[ 1.  1.  1. ...,  0.  0.  0.]\n",
      " [ 0.  0.  0. ...,  0.  0.  0.]\n",
      " [ 0.  0.  0. ...,  0.  0.  0.]\n",
      " ..., \n",
      " [ 0.  0.  0. ...,  1.  0.  0.]\n",
      " [ 0.  0.  0. ...,  0.  1.  0.]\n",
      " [ 0.  0.  0. ...,  0.  0.  1.]]\n"
     ]
    }
   ],
   "source": [
    "aggregation_matrix = np.loadtxt('aggregation_matrix.txt')\n",
    "\n",
    "print aggregation_matrix"
   ]
  },
  {
   "cell_type": "markdown",
   "metadata": {},
   "source": [
    "### For this exercise we will extract the first data column (employment) from each sheet and multiply it by the aggregation matrix\n",
    "\n",
    "##### Note there are 534 rows in the excel sheets, the is because there are 6 regions (6x89=534) so we will just take the first region in our experiment"
   ]
  },
  {
   "cell_type": "code",
   "execution_count": 146,
   "metadata": {},
   "outputs": [
    {
     "data": {
      "text/plain": [
       "{u'region0':            Sales\n",
       " 0   2.282379e+09\n",
       " 1   1.335194e+09\n",
       " 2   6.537087e+09\n",
       " 3   1.319531e+09\n",
       " 4   6.073186e+09\n",
       " 5   1.013688e+10\n",
       " 6   2.659217e+10\n",
       " 7   1.386788e+10\n",
       " 8   8.560501e+09\n",
       " 9   7.480437e+07\n",
       " 10  3.110759e+07\n",
       " 11  1.008261e+07\n",
       " 12  5.804284e+07\n",
       " 13  1.774364e+08\n",
       " 14  2.659610e+10\n",
       " 15  1.139779e+11\n",
       " 16  2.696005e+09\n",
       " 17  1.200912e+09\n",
       " 18  2.630389e+08\n",
       " 19  1.074610e+08\n",
       " 20  2.060823e+09\n",
       " 21  2.312057e+09\n",
       " 22  5.205100e+08\n",
       " 23  4.032958e+08\n",
       " 24  5.621315e+08\n",
       " 25  1.115065e+09\n",
       " 26  4.353317e+08\n",
       " 27  2.264411e+08\n",
       " 28  7.529035e+08\n",
       " 29  1.055761e+09\n",
       " ..           ...\n",
       " 59  2.573736e+09\n",
       " 60  3.367747e+08\n",
       " 61  1.548993e+08\n",
       " 62  4.178599e+09\n",
       " 63  1.714046e+09\n",
       " 64  3.011318e+09\n",
       " 65  4.124269e+08\n",
       " 66  1.254886e+10\n",
       " 67  8.237810e+08\n",
       " 68  7.619384e+08\n",
       " 69  7.368124e+09\n",
       " 70  3.613011e+09\n",
       " 71  3.249380e+09\n",
       " 72  5.746926e+08\n",
       " 73  1.523506e+09\n",
       " 74  4.248070e+09\n",
       " 75  4.105441e+09\n",
       " 76  1.099703e+09\n",
       " 77  8.516473e+08\n",
       " 78  9.382885e+08\n",
       " 79  5.529373e+07\n",
       " 80  8.687037e+09\n",
       " 81  9.893594e+09\n",
       " 82  5.403269e+10\n",
       " 83  6.574805e+09\n",
       " 84  7.075596e+08\n",
       " 85  1.052805e+09\n",
       " 86  5.562441e+07\n",
       " 87  8.090050e+08\n",
       " 88  2.191803e+08\n",
       " \n",
       " [89 rows x 1 columns]}"
      ]
     },
     "execution_count": 146,
     "metadata": {},
     "output_type": "execute_result"
    }
   ],
   "source": [
    "#opening the required files using while loop\n",
    "dict_of_df = {}\n",
    "aggregated_dict = {}\n",
    "for sheet_name in reg_soc_acc_mat.sheet_names:   \n",
    "    df = reg_soc_acc_mat.parse(sheet_name)  # sheet name\n",
    "    dict_of_df[sheet_name] = df.iloc[:89,2:3]\n",
    "\n",
    "dict_of_df"
   ]
  },
  {
   "cell_type": "markdown",
   "metadata": {},
   "source": [
    "### now multiply the employment by the aggregation matrix."
   ]
  },
  {
   "cell_type": "code",
   "execution_count": 147,
   "metadata": {},
   "outputs": [
    {
     "name": "stdout",
     "output_type": "stream",
     "text": [
      "region0            Sales\n",
      "0   2.282379e+09\n",
      "1   1.335194e+09\n",
      "2   6.537087e+09\n",
      "3   1.319531e+09\n",
      "4   6.073186e+09\n",
      "5   1.013688e+10\n",
      "6   2.659217e+10\n",
      "7   1.386788e+10\n",
      "8   8.560501e+09\n",
      "9   7.480437e+07\n",
      "10  3.110759e+07\n",
      "11  1.008261e+07\n",
      "12  5.804284e+07\n",
      "13  1.774364e+08\n",
      "14  2.659610e+10\n",
      "15  1.139779e+11\n",
      "16  2.696005e+09\n",
      "17  1.200912e+09\n",
      "18  2.630389e+08\n",
      "19  1.074610e+08\n",
      "20  2.060823e+09\n",
      "21  2.312057e+09\n",
      "22  5.205100e+08\n",
      "23  4.032958e+08\n",
      "24  5.621315e+08\n",
      "25  1.115065e+09\n",
      "26  4.353317e+08\n",
      "27  2.264411e+08\n",
      "28  7.529035e+08\n",
      "29  1.055761e+09\n",
      "..           ...\n",
      "59  2.573736e+09\n",
      "60  3.367747e+08\n",
      "61  1.548993e+08\n",
      "62  4.178599e+09\n",
      "63  1.714046e+09\n",
      "64  3.011318e+09\n",
      "65  4.124269e+08\n",
      "66  1.254886e+10\n",
      "67  8.237810e+08\n",
      "68  7.619384e+08\n",
      "69  7.368124e+09\n",
      "70  3.613011e+09\n",
      "71  3.249380e+09\n",
      "72  5.746926e+08\n",
      "73  1.523506e+09\n",
      "74  4.248070e+09\n",
      "75  4.105441e+09\n",
      "76  1.099703e+09\n",
      "77  8.516473e+08\n",
      "78  9.382885e+08\n",
      "79  5.529373e+07\n",
      "80  8.687037e+09\n",
      "81  9.893594e+09\n",
      "82  5.403269e+10\n",
      "83  6.574805e+09\n",
      "84  7.075596e+08\n",
      "85  1.052805e+09\n",
      "86  5.562441e+07\n",
      "87  8.090050e+08\n",
      "88  2.191803e+08\n",
      "\n",
      "[89 rows x 1 columns]\n"
     ]
    }
   ],
   "source": [
    "for i in dict_of_df:\n",
    "    print i, dict_of_df[i]\n",
    "    aggregated_dict[i] = np.matmul(aggregation_matrix, dict_of_df[i])"
   ]
  },
  {
   "cell_type": "markdown",
   "metadata": {},
   "source": [
    "### Build the output array.\n",
    "\n",
    "#### This code can be streamlined"
   ]
  },
  {
   "cell_type": "code",
   "execution_count": 148,
   "metadata": {},
   "outputs": [
    {
     "data": {
      "text/plain": [
       "{u'region0': array([['Agriculture', '10250355940.7'],\n",
       "        ['Mining', '26992794306.3'],\n",
       "        ['Construction', '1663625241.31'],\n",
       "        ['Durable Goods MFG', '36260569501.8'],\n",
       "        ['Nondurable Goods MFG', '1.91507272183e+11'],\n",
       "        ['Trade, Transportaiton & Utilities', '23293971690.0'],\n",
       "        ['Information', '8415127230.2'],\n",
       "        ['Finance, Insurance & Real Estate', '23450969726.8'],\n",
       "        ['Professional & Business Services', '14805207954.3'],\n",
       "        ['Education & health Services', '11828367260.8'],\n",
       "        ['Leisure & Hospitality', '73606903003.2'],\n",
       "        ['Other Services', '8390794078.92'],\n",
       "        ['Government', '809005019.92'],\n",
       "        ['Other Nonproducing Sectors', '263439608.769']],\n",
       "       dtype='|S33')}"
      ]
     },
     "execution_count": 148,
     "metadata": {},
     "output_type": "execute_result"
    }
   ],
   "source": [
    "out={}\n",
    "#aggregated_dict\n",
    "for x in aggregated_dict:\n",
    "    out[x] = np.hstack((sector_names,aggregated_dict[x]))\n",
    "\n",
    "out"
   ]
  }
 ],
 "metadata": {
  "kernelspec": {
   "display_name": "Python 2",
   "language": "python",
   "name": "python2"
  },
  "language_info": {
   "codemirror_mode": {
    "name": "ipython",
    "version": 2
   },
   "file_extension": ".py",
   "mimetype": "text/x-python",
   "name": "python",
   "nbconvert_exporter": "python",
   "pygments_lexer": "ipython2",
   "version": "2.7.14"
  }
 },
 "nbformat": 4,
 "nbformat_minor": 2
}
