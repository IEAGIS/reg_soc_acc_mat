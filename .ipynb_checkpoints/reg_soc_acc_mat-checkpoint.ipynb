{
 "cells": [
  {
   "cell_type": "markdown",
   "metadata": {},
   "source": [
    "# Reading excel sheets into python as a matrix"
   ]
  },
  {
   "cell_type": "code",
   "execution_count": 4,
   "metadata": {},
   "outputs": [
    {
     "name": "stdout",
     "output_type": "stream",
     "text": [
      "C:\\Users\\jojoseph\\Desktop\\Python Models\\Python\\IO\n"
     ]
    }
   ],
   "source": [
    "import os\n",
    "import pandas as pd\n",
    "import numpy as np\n",
    "import copy\n",
    "from openpyxl import load_workbook\n",
    "    \n",
    "cwd = os.getcwd()\n",
    "cwd = os.chdir('C:\\Users\\jojoseph\\Desktop\\Python Models\\Python\\IO')\n",
    "\n",
    "print (os.getcwd())"
   ]
  },
  {
   "cell_type": "code",
   "execution_count": 5,
   "metadata": {},
   "outputs": [
    {
     "name": "stdout",
     "output_type": "stream",
     "text": [
      "[u'region1', u'region2']\n"
     ]
    }
   ],
   "source": [
    "#opening the social account matrix excel files from IMPLAN -(89 sectors summarized from study area data/study area explorer )\n",
    "new_MRIO= 'new_MRIO.xlsx'# open file with social account matrices\n",
    "reg_soc_acc_mat=pd.ExcelFile(new_MRIO)\n",
    "print (reg_soc_acc_mat.sheet_names)\n",
    "\n",
    "#region3=reg_soc_acc_mat.parse('region2')"
   ]
  },
  {
   "cell_type": "code",
   "execution_count": 6,
   "metadata": {},
   "outputs": [
    {
     "name": "stdout",
     "output_type": "stream",
     "text": [
      "region2 [[0L u'total' 151260.4 ..., 983902602L 3628961598L 1007545589L]\n",
      " [1L u'oilseed farming' 79.5 ..., 7042325L 480023L 4239L]\n",
      " [2L u'grain farming' 94.2 ..., 768806L 690808L 15433L]\n",
      " ..., \n",
      " [534L u'* employment and payroll of local govt, education' 7104.6 ..., 0L\n",
      "  77813751L 0L]\n",
      " [535L u'* employment and payroll of federal govt, non-military' 1011.9\n",
      "  ..., 0L 35440777L 0L]\n",
      " [536L u'* employment and payroll of federal govt, military' 1393.5 ..., 0L\n",
      "  6377306L 0L]]\n",
      "region1 [[0L u'total' 151260.4 ..., 983902602L 3628961598L 1007545589L]\n",
      " [1L u'oilseed farming' 79.5 ..., 7042325L 480023L 4239L]\n",
      " [2L u'grain farming' 94.2 ..., 768806L 690808L 15433L]\n",
      " ..., \n",
      " [534L u'* employment and payroll of local govt, education' 7104.6 ..., 0L\n",
      "  77813751L 0L]\n",
      " [535L u'* employment and payroll of federal govt, non-military' 1011.9\n",
      "  ..., 0L 35440777L 0L]\n",
      " [536L u'* employment and payroll of federal govt, military' 1393.5 ..., 0L\n",
      "  6377306L 0L]]\n"
     ]
    }
   ],
   "source": [
    "#opening the required files using while loop\n",
    "dict_of_df = {}\n",
    "for sheet_name in reg_soc_acc_mat.sheet_names:\n",
    "    \n",
    "    df = reg_soc_acc_mat.parse(sheet_name)  # sheet name\n",
    "    dict_of_df[sheet_name] = df.as_matrix()\n",
    "    #dict_of_df[sheet_name] = copy.deepcopy(df)\n",
    "\n",
    "\n",
    "for i in dict_of_df:\n",
    "    print i, dict_of_df[i]"
   ]
  }
 ],
 "metadata": {
  "kernelspec": {
   "display_name": "Python 2",
   "language": "python",
   "name": "python2"
  },
  "language_info": {
   "codemirror_mode": {
    "name": "ipython",
    "version": 2
   },
   "file_extension": ".py",
   "mimetype": "text/x-python",
   "name": "python",
   "nbconvert_exporter": "python",
   "pygments_lexer": "ipython2",
   "version": "2.7.14"
  }
 },
 "nbformat": 4,
 "nbformat_minor": 2
}
