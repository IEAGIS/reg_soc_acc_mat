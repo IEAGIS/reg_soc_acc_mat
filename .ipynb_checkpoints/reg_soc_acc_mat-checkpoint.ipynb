{
 "cells": [
  {
   "cell_type": "markdown",
   "metadata": {},
   "source": [
    "# Reading excel sheets into python as a matrix"
   ]
  },
  {
   "cell_type": "code",
   "execution_count": 38,
   "metadata": {},
   "outputs": [
    {
     "ename": "WindowsError",
     "evalue": "[Error 123] The filename, directory name, or volume label syntax is incorrect: 'C:\\\\Users\\\\jojoseph\\\\Documents\\\\GitHub\\reg_soc_acc_mat'",
     "output_type": "error",
     "traceback": [
      "\u001b[1;31m\u001b[0m",
      "\u001b[1;31mWindowsError\u001b[0mTraceback (most recent call last)",
      "\u001b[1;32m<ipython-input-38-d0fe6552c42f>\u001b[0m in \u001b[0;36m<module>\u001b[1;34m()\u001b[0m\n\u001b[0;32m      7\u001b[0m \u001b[0mcwd\u001b[0m \u001b[1;33m=\u001b[0m \u001b[0mos\u001b[0m\u001b[1;33m.\u001b[0m\u001b[0mgetcwd\u001b[0m\u001b[1;33m(\u001b[0m\u001b[1;33m)\u001b[0m\u001b[1;33m\u001b[0m\u001b[0m\n\u001b[0;32m      8\u001b[0m \u001b[1;31m#cwd = os.chdir('/data')\u001b[0m\u001b[1;33m\u001b[0m\u001b[1;33m\u001b[0m\u001b[0m\n\u001b[1;32m----> 9\u001b[1;33m \u001b[0mdir\u001b[0m \u001b[1;33m=\u001b[0m \u001b[0mos\u001b[0m\u001b[1;33m.\u001b[0m\u001b[0mchdir\u001b[0m\u001b[1;33m(\u001b[0m\u001b[1;34m'C:\\Users\\jojoseph\\Documents\\GitHub\\reg_soc_acc_mat'\u001b[0m\u001b[1;33m)\u001b[0m\u001b[1;33m\u001b[0m\u001b[0m\n\u001b[0m\u001b[0;32m     10\u001b[0m \u001b[0mpath\u001b[0m \u001b[1;33m=\u001b[0m \u001b[0mos\u001b[0m\u001b[1;33m.\u001b[0m\u001b[0mpath\u001b[0m\u001b[1;33m.\u001b[0m\u001b[0mjoin\u001b[0m\u001b[1;33m(\u001b[0m\u001b[0mdir\u001b[0m\u001b[1;33m,\u001b[0m \u001b[1;34m'\\data'\u001b[0m\u001b[1;33m)\u001b[0m\u001b[1;33m\u001b[0m\u001b[0m\n\u001b[0;32m     11\u001b[0m \u001b[0mcwd\u001b[0m \u001b[1;33m=\u001b[0m \u001b[0mos\u001b[0m\u001b[1;33m.\u001b[0m\u001b[0mchdir\u001b[0m\u001b[1;33m(\u001b[0m\u001b[0mpath\u001b[0m\u001b[1;33m)\u001b[0m\u001b[1;33m\u001b[0m\u001b[0m\n",
      "\u001b[1;31mWindowsError\u001b[0m: [Error 123] The filename, directory name, or volume label syntax is incorrect: 'C:\\\\Users\\\\jojoseph\\\\Documents\\\\GitHub\\reg_soc_acc_mat'"
     ]
    }
   ],
   "source": [
    "import os\n",
    "import pandas as pd\n",
    "import numpy as np\n",
    "import copy\n",
    "from openpyxl import load_workbook\n",
    "    \n",
    "cwd = os.getcwd()\n",
    "cwd = os.chdir('C:\\Users\\jojoseph\\Documents\\GitHub\\reg_soc_acc_mat\\data')\n",
    "\n",
    "print (os.getcwd())"
   ]
  },
  {
   "cell_type": "code",
   "execution_count": 28,
   "metadata": {},
   "outputs": [
    {
     "name": "stdout",
     "output_type": "stream",
     "text": [
      "[u'region1', u'region2']\n"
     ]
    }
   ],
   "source": [
    "#opening the social account matrix excel files from IMPLAN -(89 sectors summarized from study area data/study area explorer )\n",
    "new_MRIO= 'new_MRIO.xlsx'# open file with social account matrices\n",
    "reg_soc_acc_mat=pd.ExcelFile(new_MRIO)\n",
    "print (reg_soc_acc_mat.sheet_names)\n",
    "\n",
    "#region3=reg_soc_acc_mat.parse('region2')"
   ]
  },
  {
   "cell_type": "markdown",
   "metadata": {},
   "source": [
    "### Load the aggregation matrix"
   ]
  },
  {
   "cell_type": "code",
   "execution_count": 29,
   "metadata": {},
   "outputs": [
    {
     "name": "stdout",
     "output_type": "stream",
     "text": [
      "[[ 1.  1.  1. ...,  0.  0.  0.]\n",
      " [ 0.  0.  0. ...,  0.  0.  0.]\n",
      " [ 0.  0.  0. ...,  0.  0.  0.]\n",
      " ..., \n",
      " [ 0.  0.  0. ...,  1.  0.  0.]\n",
      " [ 0.  0.  0. ...,  0.  1.  0.]\n",
      " [ 0.  0.  0. ...,  0.  0.  1.]]\n"
     ]
    }
   ],
   "source": [
    "aggregation_matrix = np.loadtxt('aggregation_matrix.txt', usecols=range(89))\n",
    "\n",
    "print aggregation_matrix"
   ]
  },
  {
   "cell_type": "markdown",
   "metadata": {},
   "source": [
    "### For this exercise we will extract the first data column (employment) from each sheet and multiply it by the aggregation matrix\n",
    "\n",
    "##### Note there are 534 rows in the excel sheets, the is because there are 6 regions (6x89=534) so we will just take the first region in our experiment"
   ]
  },
  {
   "cell_type": "code",
   "execution_count": 30,
   "metadata": {},
   "outputs": [
    {
     "name": "stdout",
     "output_type": "stream",
     "text": [
      "region2     employment\n",
      "0     151260.4\n",
      "1         79.5\n",
      "2         94.2\n",
      "3         15.6\n",
      "4         27.8\n",
      "5          3.2\n",
      "6        208.0\n",
      "7          0.0\n",
      "8          0.0\n",
      "9          0.0\n",
      "10      1287.4\n",
      "11      2117.6\n",
      "12        12.2\n",
      "13      1044.3\n",
      "14       100.9\n",
      "15         0.0\n",
      "16        91.1\n",
      "17         0.0\n",
      "18        13.3\n",
      "19       170.0\n",
      "20      1507.1\n",
      "21       259.1\n",
      "22       214.7\n",
      "23         0.0\n",
      "24         0.0\n",
      "25         0.0\n",
      "26         0.0\n",
      "27         0.0\n",
      "28         0.0\n",
      "29         0.0\n",
      "..         ...\n",
      "59       993.6\n",
      "60       231.5\n",
      "61       996.8\n",
      "62      1115.5\n",
      "63       438.7\n",
      "64       376.1\n",
      "65       108.3\n",
      "66       189.6\n",
      "67         0.0\n",
      "68         0.0\n",
      "69         0.0\n",
      "70        37.0\n",
      "71         0.0\n",
      "72         0.0\n",
      "73         0.0\n",
      "74         0.0\n",
      "75         0.0\n",
      "76         0.0\n",
      "77         0.0\n",
      "78         0.0\n",
      "79       159.4\n",
      "80         0.0\n",
      "81       213.5\n",
      "82       652.8\n",
      "83         0.0\n",
      "84       149.5\n",
      "85         0.0\n",
      "86         0.0\n",
      "87         0.0\n",
      "88         0.0\n",
      "\n",
      "[89 rows x 1 columns]\n",
      "region1     employment\n",
      "0     151260.4\n",
      "1         79.5\n",
      "2         94.2\n",
      "3         15.6\n",
      "4         27.8\n",
      "5          3.2\n",
      "6        208.0\n",
      "7          0.0\n",
      "8          0.0\n",
      "9          0.0\n",
      "10      1287.4\n",
      "11      2117.6\n",
      "12        12.2\n",
      "13      1044.3\n",
      "14       100.9\n",
      "15         0.0\n",
      "16        91.1\n",
      "17         0.0\n",
      "18        13.3\n",
      "19       170.0\n",
      "20      1507.1\n",
      "21       259.1\n",
      "22       214.7\n",
      "23         0.0\n",
      "24         0.0\n",
      "25         0.0\n",
      "26         0.0\n",
      "27         0.0\n",
      "28         0.0\n",
      "29         0.0\n",
      "..         ...\n",
      "59       993.6\n",
      "60       231.5\n",
      "61       996.8\n",
      "62      1115.5\n",
      "63       438.7\n",
      "64       376.1\n",
      "65       108.3\n",
      "66       189.6\n",
      "67         0.0\n",
      "68         0.0\n",
      "69         0.0\n",
      "70        37.0\n",
      "71         0.0\n",
      "72         0.0\n",
      "73         0.0\n",
      "74         0.0\n",
      "75         0.0\n",
      "76         0.0\n",
      "77         0.0\n",
      "78         0.0\n",
      "79       159.4\n",
      "80         0.0\n",
      "81       213.5\n",
      "82       652.8\n",
      "83         0.0\n",
      "84       149.5\n",
      "85         0.0\n",
      "86         0.0\n",
      "87         0.0\n",
      "88         0.0\n",
      "\n",
      "[89 rows x 1 columns]\n"
     ]
    }
   ],
   "source": [
    "#opening the required files using while loop\n",
    "dict_of_df = {}\n",
    "aggregated_dict = {}\n",
    "for sheet_name in reg_soc_acc_mat.sheet_names:\n",
    "    \n",
    "    df = reg_soc_acc_mat.parse(sheet_name)  # sheet name\n",
    "    #dict_of_df[sheet_name] = df.as_matrix()\n",
    "    #dict_of_df[sheet_name] = copy.deepcopy(df)\n",
    "    dict_of_df[sheet_name] = df.iloc[:89,2:3]\n",
    "\n",
    "for i in dict_of_df:\n",
    "    print i, dict_of_df[i]\n",
    "    aggregated_dict[i] = np.matmul(aggregation_matrix, dict_of_df[i])"
   ]
  },
  {
   "cell_type": "markdown",
   "metadata": {},
   "source": [
    "### now multiply the employment by the aggregation matrix."
   ]
  },
  {
   "cell_type": "code",
   "execution_count": 31,
   "metadata": {},
   "outputs": [
    {
     "data": {
      "text/plain": [
       "{u'region1': array([[  1.51435100e+05],\n",
       "        [  4.57510000e+03],\n",
       "        [  6.90000000e+01],\n",
       "        [  1.18380000e+03],\n",
       "        [  2.29520000e+03],\n",
       "        [  2.33550000e+03],\n",
       "        [  4.52130000e+03],\n",
       "        [  2.22820000e+03],\n",
       "        [  3.70000000e+01],\n",
       "        [  0.00000000e+00],\n",
       "        [  1.02570000e+03],\n",
       "        [  1.49500000e+02],\n",
       "        [  0.00000000e+00],\n",
       "        [  8.86400000e+02]]), u'region2': array([[  1.51435100e+05],\n",
       "        [  4.57510000e+03],\n",
       "        [  6.90000000e+01],\n",
       "        [  1.18380000e+03],\n",
       "        [  2.29520000e+03],\n",
       "        [  2.33550000e+03],\n",
       "        [  4.52130000e+03],\n",
       "        [  2.22820000e+03],\n",
       "        [  3.70000000e+01],\n",
       "        [  0.00000000e+00],\n",
       "        [  1.02570000e+03],\n",
       "        [  1.49500000e+02],\n",
       "        [  0.00000000e+00],\n",
       "        [  8.86400000e+02]])}"
      ]
     },
     "execution_count": 31,
     "metadata": {},
     "output_type": "execute_result"
    }
   ],
   "source": [
    "aggregated_dict"
   ]
  }
 ],
 "metadata": {
  "kernelspec": {
   "display_name": "Python 2",
   "language": "python",
   "name": "python2"
  },
  "language_info": {
   "codemirror_mode": {
    "name": "ipython",
    "version": 2
   },
   "file_extension": ".py",
   "mimetype": "text/x-python",
   "name": "python",
   "nbconvert_exporter": "python",
   "pygments_lexer": "ipython2",
   "version": "2.7.14"
  }
 },
 "nbformat": 4,
 "nbformat_minor": 2
}
